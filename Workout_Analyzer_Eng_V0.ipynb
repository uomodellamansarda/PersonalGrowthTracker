{
  "nbformat": 4,
  "nbformat_minor": 0,
  "metadata": {
    "kernelspec": {
      "display_name": "Python 3",
      "language": "python",
      "name": "python3"
    },
    "language_info": {
      "codemirror_mode": {
        "name": "ipython",
        "version": 3
      },
      "file_extension": ".py",
      "mimetype": "text/x-python",
      "name": "python",
      "nbconvert_exporter": "python",
      "pygments_lexer": "ipython3",
      "version": "3.6.4"
    },
    "colab": {
      "name": "Workout Analyzer_Eng_V0",
      "provenance": [],
      "collapsed_sections": [],
      "include_colab_link": true
    }
  },
  "cells": [
    {
      "cell_type": "markdown",
      "metadata": {
        "id": "view-in-github",
        "colab_type": "text"
      },
      "source": [
        "<a href=\"https://colab.research.google.com/github/uomodellamansarda/clockworkcsvestimator/blob/master/Workout_Analyzer_Eng_V0.ipynb\" target=\"_parent\"><img src=\"https://colab.research.google.com/assets/colab-badge.svg\" alt=\"Open In Colab\"/></a>"
      ]
    },
    {
      "cell_type": "markdown",
      "metadata": {
        "id": "t5r7OwoZu5nh",
        "colab_type": "text"
      },
      "source": [
        "NOTE\n",
        "If the time series is not stationary, or any of its possible trasformations you could not evaluate autocorrelation and partial correlation "
      ]
    },
    {
      "cell_type": "markdown",
      "metadata": {
        "id": "bR9pfKcxu5np",
        "colab_type": "text"
      },
      "source": [
        "Modifiche al codice, nel caso di nuovo anno bisogna capire come andare a ritroso nel tempo di tre-sei mesi altrimenti viene generato un errore \n",
        "Basterebbe selezionare differenti funzioni. \n",
        "Indubbiamente adesso bisogna rieditare il codice perchè si è capito che per la selezione basta fare \n",
        "df.iloc[start:]\n"
      ]
    },
    {
      "cell_type": "markdown",
      "metadata": {
        "id": "rA2uCmVEu5nr",
        "colab_type": "text"
      },
      "source": [
        "In the Year, Month, Week Analysis, I should create a logic that starts counting from the current day, instead at the moment it starts counting from the last log"
      ]
    },
    {
      "cell_type": "markdown",
      "metadata": {
        "id": "nGyHw3HILmLi",
        "colab_type": "text"
      },
      "source": [
        "#1 Library Setup\n"
      ]
    },
    {
      "cell_type": "code",
      "metadata": {
        "id": "KoEwhWONu-Ur",
        "colab_type": "code",
        "colab": {}
      },
      "source": [
        "#Google Drive Pre-work\n",
        "# Code to read csv file into Colaboratory:\n",
        "!pip install -U -q PyDrive\n",
        "from pydrive.auth import GoogleAuth\n",
        "from pydrive.drive import GoogleDrive\n",
        "from google.colab import auth\n",
        "from oauth2client.client import GoogleCredentials\n",
        "# Authenticate and create the PyDrive client.\n",
        "auth.authenticate_user()\n",
        "gauth = GoogleAuth()\n",
        "gauth.credentials = GoogleCredentials.get_application_default()\n",
        "drive = GoogleDrive(gauth)"
      ],
      "execution_count": null,
      "outputs": []
    },
    {
      "cell_type": "code",
      "metadata": {
        "id": "Gf58PZE1L5vV",
        "colab_type": "code",
        "colab": {}
      },
      "source": [
        "#importing all the necessary libraries \n",
        "import pandas as pd \n",
        "import matplotlib.pyplot as plt\n",
        "import numpy as np\n",
        "from datetime import datetime, timedelta\n",
        "import scipy.stats"
      ],
      "execution_count": null,
      "outputs": []
    },
    {
      "cell_type": "markdown",
      "metadata": {
        "id": "LguqYb18L6xu",
        "colab_type": "text"
      },
      "source": [
        "#DataLoading"
      ]
    },
    {
      "cell_type": "code",
      "metadata": {
        "id": "L1-avOL5u5nu",
        "colab_type": "code",
        "colab": {}
      },
      "source": [
        "#global variable of interest \n",
        "\n",
        "va='Python'\n",
        "tvoi='Length'\n",
        "\n",
        "#goal \n",
        "h=10000\n",
        "#h1mbW7YyNbQV3M7LgTVxWeR_rt4tjA2PfZ\n",
        "namepath=\"https://drive.google.com/file/d/1mbW7YyNbQV3M7LgTVxWeR_rt4tjA2PfZ/view?usp=sharing\"\n",
        "id=\"1mbW7YyNbQV3M7LgTVxWeR_rt4tjA2PfZ\"\n",
        "print (id)\n",
        "downloaded = drive.CreateFile({'id':id}) \n",
        "downloaded.GetContentFile('Filename.csv')  \n",
        "\n",
        "# Dataset is now stored in a Pandas Dataframe\n",
        "csvname=\"Filename.csv\"\n",
        "#read the csv\t\n",
        "columns_name=['Year', 'Month', 'Day', 'Time', 'Length', 'Start', 'End', 'Activity']\n",
        "dfraw=pd.read_csv(csvname,names=columns_name,sep=',',skiprows=1,skipfooter=0, index_col=False)\n",
        "\n",
        "print(type(dfraw[tvoi].iloc[0]))\n",
        "dfraw[tvoi] = dfraw[tvoi].astype('str')\n",
        "mask = (dfraw[tvoi].str.len() == 6) \n",
        "dfraw = dfraw.loc[mask]\n",
        "#removing all the white spaces\n",
        "dfraw[tvoi]=dfraw[tvoi].str.strip()\n",
        "\n",
        "dfraw[tvoi]=pd.to_datetime(dfraw[tvoi], format='%M:%S')\n",
        "dfraw['Date'] = dfraw.apply(lambda row: datetime(row['Year'], row['Month'], row['Day']), axis=1)\n",
        "\n",
        "#Python activity filter \n",
        "#e' qui che viene creato un df che ha un index temporale\n",
        "pythondf=dfraw[(dfraw['Activity'].str.contains(\"Python\",na=False)) | (dfraw['Activity'].str.contains(\"python\",na=False))] \n"
      ],
      "execution_count": null,
      "outputs": []
    },
    {
      "cell_type": "markdown",
      "metadata": {
        "id": "Y-C-1XMpMgju",
        "colab_type": "text"
      },
      "source": [
        "## Resampling"
      ]
    },
    {
      "cell_type": "code",
      "metadata": {
        "id": "sSF4t-r_u5oB",
        "colab_type": "code",
        "colab": {}
      },
      "source": [
        "#try better df \n",
        "#un dataframe per provare a riaggregare i nostri dati\n",
        "#per conteggiare i giorni dedicati a python e le ore fatte\n",
        "#\n",
        "\n",
        "#We create a copy of \n",
        "#the dataframe containing only the \n",
        "#python records and\n",
        "#we aggregate on daily basis \n",
        "tb_df=pythondf.copy()\n",
        "tb_df=pythondf.groupby('Date').count()\n",
        "\n",
        "rs_df=tb_df\n",
        "#We resample the dataframe in order to have \n",
        "#a continues time series \n",
        "#with daily frequency\n",
        "rs_df=rs_df.resample('D').asfreq().fillna(0)\n",
        "#divide by 2 because each pomodoro record lasts 25 minutes\n",
        "#and we create a new column to keep track of that \n",
        "rs_df['Cum']=rs_df['Activity'].cumsum().divide(2)\n",
        "\n",
        "rs_df['Costant_CUM']=3\n",
        "rs_df['Costant_CUM']=rs_df['Costant_CUM'].cumsum()\n"
      ],
      "execution_count": null,
      "outputs": []
    },
    {
      "cell_type": "markdown",
      "metadata": {
        "id": "qE6LH0jrOILY",
        "colab_type": "text"
      },
      "source": [
        "#Hours Remaining to be an expert"
      ]
    },
    {
      "cell_type": "code",
      "metadata": {
        "id": "SZ6I9WxFOBZ8",
        "colab_type": "code",
        "colab": {}
      },
      "source": [
        "#Max Hours \n",
        "max_hours=rs_df['Cum'][-1]\n",
        "print(\"Total Hours until now\",max_hours)\n",
        "remaining_h=h-max_hours\n",
        "print(\"Remaining hours to became an expert: \\n\",remaining_h)"
      ],
      "execution_count": null,
      "outputs": []
    },
    {
      "cell_type": "markdown",
      "metadata": {
        "id": "pXQJINKsOziz",
        "colab_type": "text"
      },
      "source": [
        "#Plotting Functions"
      ]
    },
    {
      "cell_type": "code",
      "metadata": {
        "id": "b8SnFBGTu5oL",
        "colab_type": "code",
        "colab": {}
      },
      "source": [
        "#We create a function \n",
        "#in order to plot all the hours dedicated to the \n",
        "#Variable of Interest (in this specific case python)\n",
        "#And we compare with the \"hours per day  goal\"\n",
        "\n",
        "def practice_plot(df):\n",
        "    def plotting(df):\n",
        "        fig, ax= plt.subplots(figsize=(15,10))\n",
        "        ax.plot(df.index,df['Cum'])\n",
        "        ax.plot(df.index,df['Costant_CUM'],'g--')\n",
        "        ax.tick_params(axis='x',rotation=90)\n",
        "        ax.set(title='Total Hours Studying and Working With Python (%d H)'%(maxh))\n",
        "        plt.show()\n",
        "        return \n",
        "    \n",
        "    if len(df)>180:\n",
        "        maxh=df.Cum.max()\n",
        "        maxc=df.Costant_CUM.max()\n",
        "        print(\"Max Hours %d h\"%maxh)\n",
        "\n",
        "        delta=maxh-maxc\n",
        "        print(\"Il differenziale assoluto è di %s ore\"%delta)\n",
        "    \n",
        "        delta_mens=[-30,-90,-180]\n",
        "        delta_mens_dic={\"Mese\":-30,\"Trimestre\":-90,\"Semestre\":-180}\n",
        "        z=df['Cum'].iloc[-1]\n",
        "        y=df['Costant_CUM'].iloc[-1]\n",
        "\n",
        "        percentage_change=[(((z-y)/(df['Cum'].iloc[x]-df['Costant_CUM'].iloc[x]))*100).round(2) \n",
        "                   for x in delta_mens]\n",
        "        x_print=[print(\"\\n La percentuale di cambiamento è di %s negli ultimi %s giorni \"%(percentage_change[ii],delta_mens[ii])) for ii in [0,1,2]]\n",
        "        plotting(df)\n",
        "    elif len(df)>90:\n",
        "        maxh=df.Cum.max()\n",
        "        maxc=df.Costant_CUM.max()\n",
        "        delta_mens=[-30,-90]\n",
        "        delta_mens_dic={\"Mese\":-30,\"Trimestre\":-90}\n",
        "        z=df['Cum'].iloc[-1]\n",
        "        y=df['Costant_CUM'].iloc[-1]\n",
        "        \n",
        "        percentage_change=[(((z-y)/(df['Cum'].iloc[x]-df['Costant_CUM'].iloc[x]))*100).round(2) \n",
        "                   for x in delta_mens]\n",
        "        x_print=[print(\"\\n La percentuale di cambiamento è di %s negli ultimi %s giorni \"%(percentage_change[ii],delta_mens[ii])) for ii in [0,1]]\n",
        "        plotting(df)\n",
        "        plotting(df)\n",
        "    elif len(df)<90:\n",
        "        maxh=df.Cum.max()\n",
        "        maxc=df.Costant_CUM.max()\n",
        "        plotting(df)\n",
        "    \n",
        "def m_practice_plot(df): \n",
        "    \n",
        "    maxh=df.Cum.max()\n",
        "    maxc=df.Costant_CUM.max()\n",
        "    print(\"Max Hours %d h\"%maxh)\n",
        "    delta=maxh-maxc\n",
        "\n",
        "    fig, ax= plt.subplots(figsize=(15,10))\n",
        "    ax.plot(df.index,df['Cum'])\n",
        "    ax.plot(df.index,df['Costant_CUM'],'g--')\n",
        "    ax.tick_params(axis='x',rotation=90)\n",
        "    ax.set(title='Total Hours Studying and Working With Python (%d H)'%(maxh))\n",
        "    \n",
        "    plt.show()\n",
        "    return     "
      ],
      "execution_count": null,
      "outputs": []
    },
    {
      "cell_type": "markdown",
      "metadata": {
        "id": "Ix2dKFY0S1Ef",
        "colab_type": "text"
      },
      "source": [
        "#Since Ever Plot"
      ]
    },
    {
      "cell_type": "code",
      "metadata": {
        "id": "zoZvwPANu5oS",
        "colab_type": "code",
        "colab": {}
      },
      "source": [
        "practice_plot(rs_df)"
      ],
      "execution_count": null,
      "outputs": []
    },
    {
      "cell_type": "markdown",
      "metadata": {
        "id": "qXQZyqWGS9Vy",
        "colab_type": "text"
      },
      "source": [
        "#Current Year Analysis"
      ]
    },
    {
      "cell_type": "code",
      "metadata": {
        "id": "I2XrSrU9u5oc",
        "colab_type": "code",
        "colab": {}
      },
      "source": [
        "#we create a copy in order to modify without \n",
        "#corrupting the original df\n",
        "#containing all the records \n",
        "#of the selected activity\n",
        "#grouped by day \n",
        "pythondf=rs_df\n",
        "#this is a test for timeseries slicing\n",
        "print(\"Test_selezione \\n\", pythondf['2020'].tail())\n",
        "print(pythondf.head())\n",
        "print(pythondf.index[1:10])\n",
        "#here you can put automatically the year\n",
        "select_Year='2020'\n",
        "start=-365\n",
        "print(len(pythondf.iloc[start:]))"
      ],
      "execution_count": null,
      "outputs": []
    },
    {
      "cell_type": "code",
      "metadata": {
        "scrolled": true,
        "id": "LW6JLJ5Su5oi",
        "colab_type": "code",
        "colab": {}
      },
      "source": [
        "\n",
        "tot_hours=rs_df[select_Year]['Costant_CUM'][-1]-rs_df[select_Year]['Costant_CUM'][0]\n",
        "average=(tot_hours/365/2).round(2)\n",
        "\n",
        "print((tot_hours/2).round(2))\n",
        "print(average,'\\n')\n",
        "\n"
      ],
      "execution_count": null,
      "outputs": []
    },
    {
      "cell_type": "markdown",
      "metadata": {
        "id": "JGHBgRDmUdb1",
        "colab_type": "text"
      },
      "source": [
        "#-365 Plot "
      ]
    },
    {
      "cell_type": "code",
      "metadata": {
        "id": "Tew2TV9Ou5ou",
        "colab_type": "code",
        "colab": {}
      },
      "source": [
        "practice_plot(rs_df.iloc[start:])"
      ],
      "execution_count": null,
      "outputs": []
    },
    {
      "cell_type": "markdown",
      "metadata": {
        "id": "Xy_34OHeX9Ha",
        "colab_type": "text"
      },
      "source": [
        "#Current Year Analysis "
      ]
    },
    {
      "cell_type": "code",
      "metadata": {
        "id": "SVD_xXV1u5oz",
        "colab_type": "code",
        "colab": {}
      },
      "source": [
        "#we create a \n",
        "#current day vector \n",
        "#current month vector (int)\n",
        "#current year vector (int)\n",
        "today=datetime.now()\n",
        "actual_month=today.month\n",
        "actual_year=today.year\n",
        "print(type(actual_year))\n",
        "\n",
        "#we convert to string \n",
        "#current year vector \n",
        "year_str=str(actual_year)\n",
        "d=1\n",
        "#we create\n",
        "#a starting point \n",
        "#for current year  \n",
        "date2=datetime(actual_year,1,1)\n",
        "\n",
        "#we create a \n",
        "#current month threshold \n",
        "filtering_threshold=datetime(actual_year,actual_month,d)\n",
        "#we filter \n",
        "#the python activities df\n",
        "#based on the current month \n",
        "python_act_m=pythondf[pythondf.index>=filtering_threshold]\n",
        "#we filter \n",
        "#the python activities df\n",
        "#based on the current year\n",
        "python_act_y=pythondf[pythondf.index>=year_str]\n",
        "#we calculate\n",
        "#the numbers of days \n",
        "#from\n",
        "#the beginning of the month \n",
        "#and the current day \n",
        "d_day=(today-filtering_threshold).days\n",
        "#we calculate\n",
        "#the numbers of days \n",
        "#from\n",
        "#the beginning of the year\n",
        "#and the current day \n",
        "d_y_day=(today-date2).days\n",
        "\n",
        "print('Python monthly head \\n', python_act_m.head())\n",
        "print('Python yearly head \\n', python_act_y.head())\n"
      ],
      "execution_count": null,
      "outputs": []
    },
    {
      "cell_type": "code",
      "metadata": {
        "id": "sy2RXQmdu5o8",
        "colab_type": "code",
        "colab": {}
      },
      "source": [
        "practice_plot(python_act_y)"
      ],
      "execution_count": null,
      "outputs": []
    },
    {
      "cell_type": "code",
      "metadata": {
        "id": "83js9DRRu5pD",
        "colab_type": "code",
        "colab": {}
      },
      "source": [
        "m_practice_plot(python_act_m)"
      ],
      "execution_count": null,
      "outputs": []
    },
    {
      "cell_type": "code",
      "metadata": {
        "id": "t0JBkge5u5pK",
        "colab_type": "code",
        "colab": {}
      },
      "source": [
        "#This is a relative plot in order \n",
        "#to analyze the learning trend \n",
        "#relative to \n",
        "#the current year \n",
        "#current month \n",
        "def relative_plot(df,date): \n",
        "    f_df=df[date::].copy()\n",
        "    f_df['R_Cum']=f_df['Activity'].cumsum().divide(2)\n",
        "    \n",
        "\n",
        "    \n",
        "    f_df['R_Costant_CUM']=np.arange(3,len(f_df)*3+1,3)\n",
        "\n",
        "    maxh=f_df.R_Cum.max()\n",
        "    maxc=f_df.R_Costant_CUM.max()\n",
        "    \n",
        "    print(\"Lo studio di Python Da\",date,\" è di %s h\"%maxh)\n",
        "\n",
        "    delta=maxh-maxc\n",
        "    print(\"\\n Il differenziale relativo è di %s ore\"%delta)\n",
        "    \n",
        "    fig, ax= plt.subplots()\n",
        "    ax.plot(f_df.index,f_df['R_Cum'])\n",
        "    ax.plot(f_df.index,f_df['R_Costant_CUM'],'g--')\n",
        "    ax.tick_params(axis='x',rotation=90)\n",
        "    ax.set(title='Relative Hours Studying and Working With Python (%d H)'%(maxh))\n",
        "    \n",
        "    plt.show()\n",
        "    return "
      ],
      "execution_count": null,
      "outputs": []
    },
    {
      "cell_type": "code",
      "metadata": {
        "scrolled": true,
        "id": "0P_0NVIbu5pT",
        "colab_type": "code",
        "colab": {}
      },
      "source": [
        "year='2020'\n",
        "relative_plot(rs_df,year)"
      ],
      "execution_count": null,
      "outputs": []
    },
    {
      "cell_type": "markdown",
      "metadata": {
        "id": "rMsv36jIu5pY",
        "colab_type": "text"
      },
      "source": [
        "In this section we analyze how we are performing on monthly basis and on yearly basis\n",
        "We should select manually the month and the year, this way is also possible to go back to any month "
      ]
    },
    {
      "cell_type": "code",
      "metadata": {
        "id": "zy808tmVu5pc",
        "colab_type": "code",
        "colab": {}
      },
      "source": [
        "month='2020-03'"
      ],
      "execution_count": null,
      "outputs": []
    },
    {
      "cell_type": "code",
      "metadata": {
        "id": "GVrJZ6Xlu5po",
        "colab_type": "code",
        "colab": {}
      },
      "source": [
        "relative_plot(rs_df,month)\n",
        "m_practice_plot(python_act_m)"
      ],
      "execution_count": null,
      "outputs": []
    },
    {
      "cell_type": "code",
      "metadata": {
        "id": "eJ5rof-Ju5pu",
        "colab_type": "code",
        "colab": {}
      },
      "source": [
        "practice_plot(python_act_y)\n",
        "relative_plot(rs_df,year)"
      ],
      "execution_count": null,
      "outputs": []
    },
    {
      "cell_type": "markdown",
      "metadata": {
        "id": "o3uj4oB_u5p2",
        "colab_type": "text"
      },
      "source": [
        "Da questa sezione iniziamo a valutare ed identiicare la stazionarietà delle nostre serie storiche per poter predire l'opportuno risultato di ore che verranno dedicate nel futuro "
      ]
    },
    {
      "cell_type": "code",
      "metadata": {
        "id": "J6ghYtK9u5p4",
        "colab_type": "code",
        "colab": {}
      },
      "source": [
        "activity_divided=rs_df.Activity.divide(2)\n",
        "print(activity_divided.mean())\n",
        "print(activity_divided.std())\n",
        "print(activity_divided.median())\n",
        "print(activity_divided.describe())"
      ],
      "execution_count": null,
      "outputs": []
    },
    {
      "cell_type": "code",
      "metadata": {
        "id": "360lt9Jxu5p-",
        "colab_type": "code",
        "colab": {}
      },
      "source": [
        "fig, ax=plt.subplots()\n",
        "ax.hist(activity_divided,bins=24)\n",
        "ax.set(xlabel='Hours per day',title='Hours per Day Histogram')\n",
        "plt.show()"
      ],
      "execution_count": null,
      "outputs": []
    },
    {
      "cell_type": "code",
      "metadata": {
        "id": "6cYsWuh7u5qE",
        "colab_type": "code",
        "colab": {}
      },
      "source": [
        "#we try to analyze the difference between days in order to see ho day change \n",
        "diff=activity_divided.diff().dropna()\n",
        "\n",
        "fig, ax=plt.subplots(2,1)\n",
        "ax[0].plot(diff.index,diff)\n",
        "ax[0].set(xlabel='Hours per day',title='Hours per Day Histogram')\n",
        "plt.setp(ax[0].get_xticklabels(),rotation=90)\n",
        "ax[1].plot(activity_divided.index,activity_divided)\n",
        "ax[1].set(xlabel='Hours per day',title='Hours per Day Histogram')\n",
        "plt.setp(ax[1].get_xticklabels(),rotation=90)\n",
        "plt.show()"
      ],
      "execution_count": null,
      "outputs": []
    },
    {
      "cell_type": "code",
      "metadata": {
        "id": "HrJW26Pyu5qK",
        "colab_type": "code",
        "colab": {}
      },
      "source": [
        "#here we plot the histogram of the difference in activity day \n",
        "print(\"Diff Summary Statistics: \\n\",diff.describe())\n",
        "fig, ax=plt.subplots()\n",
        "ax.hist(diff,bins=48)\n",
        "ax.set(xlabel='Difference',title='Difference Hours Committed per Day Histogram')\n",
        "plt.show()"
      ],
      "execution_count": null,
      "outputs": []
    },
    {
      "cell_type": "code",
      "metadata": {
        "id": "cNi6NwPPu5qP",
        "colab_type": "code",
        "colab": {}
      },
      "source": [
        "#we create \n",
        "#a normal distribution \n",
        "#with \n",
        "#mean equal to the average hours per day \n",
        "#std is calculated also on daily basis\n",
        "n_mean=rs_df.Activity.divide(2).mean()\n",
        "n_std=rs_df.Activity.divide(2).mean()\n",
        "n_obj=scipy.stats.norm(n_mean, n_std).cdf(n_mean)\n",
        "print(n_obj)\n",
        "pdf=[0.025, 0.25, 0.5,0.75, 0.975]\n",
        "pdf2=[2, 25, 50,75, 97]\n",
        "#for i in pdf2:\n",
        " #   print(i,scipy.stats.norm(n_mean, n_std).pdf(i)\n",
        "\n",
        "          \n",
        "normal_obj=np.random.normal(n_mean, n_std,1000)\n",
        "normal_sorted=sorted(normal_obj)\n",
        "percentile=[2.5,25,50, 75,97.5]\n",
        "prc_array=np.percentile(normal_sorted,percentile)\n",
        "print(\"percentile array \\n\", prc_array)\n",
        "print(prc_array.size)\n",
        "remaining_days=np.full(prc_array.size,remaining_h)\n",
        "print(\"Year remaining to be an expert \\n\",(remaining_days/prc_array)/365)"
      ],
      "execution_count": null,
      "outputs": []
    },
    {
      "cell_type": "markdown",
      "metadata": {
        "id": "iYYL13DOu5qW",
        "colab_type": "text"
      },
      "source": [
        "Alcune risorse in merito alla:\n",
        "1) Distribuzione Normale\n",
        "\n",
        "2) Distribuzione Beta \n",
        "\n",
        "3) Distribuzione PERT \n",
        "\n",
        "https://www.vosesoftware.com/riskwiki/Beta4distribution.php\n",
        "\n",
        "https://it.wikipedia.org/wiki/Distribuzione_Beta\n",
        "\n",
        "https://en.wikipedia.org/wiki/PERT_distribution\n",
        "\n",
        "https://stats.stackexchange.com/questions/68983/beta-distribution-fitting-in-scipy\n",
        "\n",
        "https://medium.com/w2hds/beta-distribution-what-when-how-c5ebaafdeedd\n",
        "\n",
        "https://bizfluent.com/how-6722338-calculate-pert.html\n",
        "\n",
        "https://math.stackexchange.com/questions/521575/difference-between-probability-and-probability-density"
      ]
    },
    {
      "cell_type": "code",
      "metadata": {
        "id": "IfSSgd4Iu5qY",
        "colab_type": "code",
        "colab": {}
      },
      "source": [
        "#in this section we identify autocorrelation for our time series\n",
        "#\n",
        "# Import the plot_acf module from statsmodels\n",
        "from statsmodels.graphics.tsaplots import plot_acf,plot_pacf\n"
      ],
      "execution_count": null,
      "outputs": []
    },
    {
      "cell_type": "code",
      "metadata": {
        "id": "mra62W27u5qc",
        "colab_type": "code",
        "colab": {}
      },
      "source": [
        ""
      ],
      "execution_count": null,
      "outputs": []
    },
    {
      "cell_type": "code",
      "metadata": {
        "id": "23WRybmnu5qh",
        "colab_type": "code",
        "colab": {}
      },
      "source": [
        "#Try to approximate the actual curve with polynomial features \n",
        "#Is a trivial way to make a prediction \n",
        "#Just for practice\n",
        "#not for pratical use \n",
        "from sklearn import linear_model\n",
        "from sklearn.preprocessing import PolynomialFeatures\n",
        "from sklearn.pipeline import make_pipeline\n",
        "from statsmodels.tsa.stattools import adfuller"
      ],
      "execution_count": null,
      "outputs": []
    },
    {
      "cell_type": "code",
      "metadata": {
        "id": "Of9MFi12u5qm",
        "colab_type": "code",
        "colab": {}
      },
      "source": [
        "print(rs_df.head(5))\n",
        "print(today)"
      ],
      "execution_count": null,
      "outputs": []
    },
    {
      "cell_type": "code",
      "metadata": {
        "id": "ifzST3cQu5qr",
        "colab_type": "code",
        "colab": {}
      },
      "source": [
        "degree=1\n",
        "model = make_pipeline(PolynomialFeatures(degree), linear_model.LinearRegression())\n",
        "x=np.arange(0,len(rs_df.index))\n",
        "x=x[:,np.newaxis]\n",
        "y=np.array(rs_df['Cum'].values)\n",
        "y=y[:,np.newaxis]\n",
        "print(len(x))\n",
        "print(len(rs_df['Cum']))\n",
        "print(len(x),x.shape)\n",
        "print(len(y),y.shape)\n",
        "fitted=model.fit(x,y)\n",
        "x_pred=np.arange(0,len(rs_df.index)+365)\n",
        "x_pred=x_pred[:,np.newaxis]\n",
        "y_plot = model.predict(x_pred)\n",
        "print(type(model))\n",
        "print(type(fitted))\n",
        "#we need to get another y pred \n",
        "#in order to evaluate \n",
        "#the residuals \n",
        "y_res=model.predict(x)\n",
        "residuals=y_res-y\n",
        "flat_residuals=residuals.flatten()\n",
        "print(adfuller(flat_residuals))"
      ],
      "execution_count": null,
      "outputs": []
    },
    {
      "cell_type": "code",
      "metadata": {
        "id": "H3co3eeru5qy",
        "colab_type": "code",
        "colab": {}
      },
      "source": [
        "#thorugh statsmodel ordinary least squared \n",
        "#we extract automatically residuals \n",
        "#and test if they are stationary or not \n",
        "import statsmodels.api as sm\n",
        "#\n",
        "X = sm.add_constant(x)\n",
        "model_stat = sm.OLS(y,X)\n",
        "results_stats = model_stat.fit()\n",
        "print(results_stats.params)\n",
        "#we test if residuals are stationary or not \n",
        "#with adfuller test\n",
        "print(adfuller(results_stats.resid))"
      ],
      "execution_count": null,
      "outputs": []
    },
    {
      "cell_type": "code",
      "metadata": {
        "id": "z4maPpuhu5q4",
        "colab_type": "code",
        "colab": {}
      },
      "source": [
        "fig = plt.figure()\n",
        "ax = plt.axes()\n",
        "ax.plot(x, y)\n",
        "ax.plot(x_pred,y_plot)\n",
        "print(y_plot[-1])\n",
        "average=y_plot[-1]/len(y_plot)\n",
        "print(np.round(average,2))"
      ],
      "execution_count": null,
      "outputs": []
    },
    {
      "cell_type": "code",
      "metadata": {
        "id": "OlKn5TPZu5rB",
        "colab_type": "code",
        "colab": {}
      },
      "source": [
        "week_moving_average=rs_df.Activity.divide(2).rolling(window=30).mean()\n",
        "mean_activity=rs_df.Activity.divide(2).mean()\n",
        "print(mean_activity)\n",
        "x_moving=np.arange(0,len(week_moving_average))\n",
        "fig,ax=plt.subplots()\n",
        "ax.plot(x_moving,week_moving_average)\n",
        "plt.show()"
      ],
      "execution_count": null,
      "outputs": []
    },
    {
      "cell_type": "markdown",
      "metadata": {
        "id": "lobtAMCIu5rI",
        "colab_type": "text"
      },
      "source": [
        "In this section we try to undestand if the difference between daily records is stationary with ad adfuller test "
      ]
    },
    {
      "cell_type": "code",
      "metadata": {
        "id": "_LrtGJGgu5rK",
        "colab_type": "code",
        "colab": {}
      },
      "source": [
        "from statsmodels.tsa.stattools import adfuller\n",
        "result=adfuller(diff)\n",
        "\n",
        "print(result[0])\n",
        "print(\"Adfuller p value:\\n\",np.round(result[1],4))"
      ],
      "execution_count": null,
      "outputs": []
    },
    {
      "cell_type": "code",
      "metadata": {
        "id": "K43acpdeu5rP",
        "colab_type": "code",
        "colab": {}
      },
      "source": [
        ""
      ],
      "execution_count": null,
      "outputs": []
    },
    {
      "cell_type": "markdown",
      "metadata": {
        "id": "EsVVd2z5u5rU",
        "colab_type": "text"
      },
      "source": [
        "###### "
      ]
    },
    {
      "cell_type": "code",
      "metadata": {
        "id": "YkwVrcrLu5rX",
        "colab_type": "code",
        "colab": {}
      },
      "source": [
        ""
      ],
      "execution_count": null,
      "outputs": []
    },
    {
      "cell_type": "code",
      "metadata": {
        "id": "5Nu-LDkMu5rc",
        "colab_type": "code",
        "colab": {}
      },
      "source": [
        ""
      ],
      "execution_count": null,
      "outputs": []
    },
    {
      "cell_type": "code",
      "metadata": {
        "id": "8_-IA9dMu5rg",
        "colab_type": "code",
        "colab": {}
      },
      "source": [
        ""
      ],
      "execution_count": null,
      "outputs": []
    }
  ]
}